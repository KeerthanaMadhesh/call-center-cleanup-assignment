{
 "cells": [
  {
   "cell_type": "markdown",
   "id": "331a1c4f",
   "metadata": {},
   "source": [
    "# Call Center Cleanup\n",
    "\n",
    "For this assignment, we will be working with call center data. You can start working on the assignment after the first lesson on Exploratory Data Analysis. Make sure to read the whole assignment before starting anything! As you code along in the Jupyter notebook, you are asked to make note of the results of your analysis. Do so by clicking on the results box and adding your notes beside each question.\n",
    "\n",
    "## Business Issue and Understanding\n",
    "\n",
    "You are working for a company that has two call centers: the North Call Center and the South Call Center. The company is looking to possibly hire five additional reps to enhance customer experience. Your task is to explore how efficient the current reps are in each branch to determine which branch would benefit from additional assistance.\n",
    "\n",
    "### How the Call Center Works\n",
    "\n",
    "Call center representatives are assigned queues. When calls are assigned to a queue, the call is assigned to the next person in line in the queue. After a call is assigned to a representative, the amount of time between assignment and the call starting is divided into busy minutes and not ready minutes. If the call is incoming and a customer is waiting on the phone for a rep, the time is split into three categories: busy minutes, not ready minutes, and incoming call wait time. Once the rep has the customer on the phone, there might be during call wait time, where the call is put on hold while the rep gets an answer for the customer.\n",
    "\n",
    "### Notes about the Dataset\n",
    "\n",
    "If you haven't worked in a call center before, these notes might help you throughout your analysis.\n",
    "\n",
    "* The call purpose is tagged for each call.\n",
    "* The time of the call is tagged in 1 hour blocks starting at 9:00 AM and ending at 5:00 PM.\n",
    "* Calls are tagged as incoming or outgoing.\n",
    "* Reps are assigned to queues. When the reps are working, they take calls in the order of their queue.\n",
    "* A call that is dropped due to technical error or missed by the center because they have reached maximum capacity is a lost call.\n",
    "* An abandoned call is when the customer hangs up because they have been waiting for too long.\n",
    "* Busy Minutes: the amount of time after a call comes in or needs to go out where the assigned rep is not available because they are busy with other customers.\n",
    "* Not Ready Minutes: the amount of time after a call comes in or needs to go out where the assigned rep is not available because they are not ready (for example, getting water).\n",
    "* Incoming Wait Time - amount of time after assigned rep is available to take the call customer waits for representative to pick up a call. This is tracked in seconds.\n",
    "* During Call Wait Time - amount of time during call that customer has to wait for representative\n",
    "\n",
    "## Getting Started\n",
    "\n",
    "You have two CSVs at your disposal, `NorthCallCenter.csv` and `SouthCallCenter.csv`. Import the appropriate libraries and create two dataframes, one called `north_df` and one called `south_df`."
   ]
  },
  {
   "cell_type": "code",
   "execution_count": 34,
   "id": "f362436b",
   "metadata": {},
   "outputs": [
    {
     "data": {
      "text/html": [
       "<div>\n",
       "<style scoped>\n",
       "    .dataframe tbody tr th:only-of-type {\n",
       "        vertical-align: middle;\n",
       "    }\n",
       "\n",
       "    .dataframe tbody tr th {\n",
       "        vertical-align: top;\n",
       "    }\n",
       "\n",
       "    .dataframe thead th {\n",
       "        text-align: right;\n",
       "    }\n",
       "</style>\n",
       "<table border=\"1\" class=\"dataframe\">\n",
       "  <thead>\n",
       "    <tr style=\"text-align: right;\">\n",
       "      <th></th>\n",
       "      <th>Unnamed: 0</th>\n",
       "      <th>Branch</th>\n",
       "      <th>Call Purpose</th>\n",
       "      <th>Time Block</th>\n",
       "      <th>Incoming or Outgoing</th>\n",
       "      <th>Queue</th>\n",
       "      <th>Rep ID</th>\n",
       "      <th>Sale</th>\n",
       "      <th>Lost Call</th>\n",
       "      <th>Abandoned</th>\n",
       "      <th>Busy Minutes</th>\n",
       "      <th>Not Ready Minutes</th>\n",
       "      <th>Incoming Wait Time</th>\n",
       "      <th>During Call Wait Time</th>\n",
       "      <th>Calls</th>\n",
       "    </tr>\n",
       "  </thead>\n",
       "  <tbody>\n",
       "    <tr>\n",
       "      <th>0</th>\n",
       "      <td>0</td>\n",
       "      <td>South</td>\n",
       "      <td>Sales Support</td>\n",
       "      <td>10:00 AM</td>\n",
       "      <td>Incoming</td>\n",
       "      <td>D</td>\n",
       "      <td>Kate</td>\n",
       "      <td>NO</td>\n",
       "      <td>0</td>\n",
       "      <td>0</td>\n",
       "      <td>9</td>\n",
       "      <td>1</td>\n",
       "      <td>1.0</td>\n",
       "      <td>2</td>\n",
       "      <td>1</td>\n",
       "    </tr>\n",
       "    <tr>\n",
       "      <th>1</th>\n",
       "      <td>1</td>\n",
       "      <td>South</td>\n",
       "      <td>Sales Support</td>\n",
       "      <td>10:00 AM</td>\n",
       "      <td>Incoming</td>\n",
       "      <td>C</td>\n",
       "      <td>Eric</td>\n",
       "      <td>NO</td>\n",
       "      <td>0</td>\n",
       "      <td>0</td>\n",
       "      <td>8</td>\n",
       "      <td>2</td>\n",
       "      <td>1.0</td>\n",
       "      <td>4</td>\n",
       "      <td>1</td>\n",
       "    </tr>\n",
       "    <tr>\n",
       "      <th>2</th>\n",
       "      <td>2</td>\n",
       "      <td>South</td>\n",
       "      <td>Sales Support</td>\n",
       "      <td>10:00 AM</td>\n",
       "      <td>Incoming</td>\n",
       "      <td>C</td>\n",
       "      <td>Susan</td>\n",
       "      <td>NO</td>\n",
       "      <td>0</td>\n",
       "      <td>0</td>\n",
       "      <td>10</td>\n",
       "      <td>2</td>\n",
       "      <td>1.0</td>\n",
       "      <td>4</td>\n",
       "      <td>1</td>\n",
       "    </tr>\n",
       "    <tr>\n",
       "      <th>3</th>\n",
       "      <td>3</td>\n",
       "      <td>South</td>\n",
       "      <td>Sales Support</td>\n",
       "      <td>10:00 AM</td>\n",
       "      <td>Incoming</td>\n",
       "      <td>C</td>\n",
       "      <td>Alice</td>\n",
       "      <td>NO</td>\n",
       "      <td>0</td>\n",
       "      <td>0</td>\n",
       "      <td>12</td>\n",
       "      <td>1</td>\n",
       "      <td>1.0</td>\n",
       "      <td>3</td>\n",
       "      <td>1</td>\n",
       "    </tr>\n",
       "    <tr>\n",
       "      <th>4</th>\n",
       "      <td>4</td>\n",
       "      <td>South</td>\n",
       "      <td>Sales Support</td>\n",
       "      <td>12:00 PM</td>\n",
       "      <td>Incoming</td>\n",
       "      <td>C</td>\n",
       "      <td>Sandy</td>\n",
       "      <td>NO</td>\n",
       "      <td>0</td>\n",
       "      <td>0</td>\n",
       "      <td>8</td>\n",
       "      <td>3</td>\n",
       "      <td>1.0</td>\n",
       "      <td>3</td>\n",
       "      <td>1</td>\n",
       "    </tr>\n",
       "  </tbody>\n",
       "</table>\n",
       "</div>"
      ],
      "text/plain": [
       "   Unnamed: 0 Branch   Call Purpose Time Block Incoming or Outgoing Queue  \\\n",
       "0           0  South  Sales Support   10:00 AM             Incoming     D   \n",
       "1           1  South  Sales Support   10:00 AM             Incoming     C   \n",
       "2           2  South  Sales Support   10:00 AM             Incoming     C   \n",
       "3           3  South  Sales Support   10:00 AM             Incoming     C   \n",
       "4           4  South  Sales Support   12:00 PM             Incoming     C   \n",
       "\n",
       "  Rep ID Sale  Lost Call  Abandoned  Busy Minutes  Not Ready Minutes  \\\n",
       "0   Kate   NO          0          0             9                  1   \n",
       "1   Eric   NO          0          0             8                  2   \n",
       "2  Susan   NO          0          0            10                  2   \n",
       "3  Alice   NO          0          0            12                  1   \n",
       "4  Sandy   NO          0          0             8                  3   \n",
       "\n",
       "   Incoming Wait Time  During Call Wait Time  Calls  \n",
       "0                 1.0                      2      1  \n",
       "1                 1.0                      4      1  \n",
       "2                 1.0                      4      1  \n",
       "3                 1.0                      3      1  \n",
       "4                 1.0                      3      1  "
      ]
     },
     "execution_count": 34,
     "metadata": {},
     "output_type": "execute_result"
    }
   ],
   "source": [
    "# Import the appropriate libraries with aliases\n",
    "import pandas as pd\n",
    "# Create two new dataframes\n",
    "north_df = pd.read_csv(\"NorthCallCenter.csv\")\n",
    "south_df = pd.read_csv(\"southCallCenter.csv\")\n",
    "north_df.head()\n",
    "south_df.head()\n"
   ]
  },
  {
   "cell_type": "markdown",
   "id": "37f77cd4",
   "metadata": {},
   "source": [
    "<span style=\"background-color:orangered; color:orangered;\">- - - - - - - - - - - - - - - - - - - - - - - - - - - - - - - - - - - - - - - - - - - - - - - - - - - - - - - - - - - - - - - - - - - - - - - - - - - - - - - - - - - - - - - - -</span>"
   ]
  },
  {
   "cell_type": "markdown",
   "id": "b4d3484b",
   "metadata": {},
   "source": [
    "## Exploratory Data Analysis\n",
    "\n",
    "Time to do some EDA! In the process of learning more about the two datasets, answer the following questions. In the code blocks below enter the code used to solve the question.  At the end of the section record your answers by double clicking where asked."
   ]
  },
  {
   "cell_type": "markdown",
   "id": "76898991",
   "metadata": {},
   "source": [
    "#### EDA Question 1A:  How many reps are in the North branch? "
   ]
  },
  {
   "cell_type": "code",
   "execution_count": 35,
   "id": "ce3eb5e4",
   "metadata": {},
   "outputs": [
    {
     "data": {
      "text/plain": [
       "Brent     37\n",
       "Lilly     30\n",
       "Todd      29\n",
       "Duke      29\n",
       "Joe       26\n",
       "Cam       24\n",
       "Xander    24\n",
       "Amanda    23\n",
       "Andy      23\n",
       "Name: Rep ID, dtype: int64"
      ]
     },
     "execution_count": 35,
     "metadata": {},
     "output_type": "execute_result"
    }
   ],
   "source": [
    "#Code Used:\n",
    "north_df['Rep ID'].value_counts()"
   ]
  },
  {
   "cell_type": "code",
   "execution_count": 16,
   "id": "aa6169ca",
   "metadata": {},
   "outputs": [
    {
     "data": {
      "text/html": [
       "<div>\n",
       "<style scoped>\n",
       "    .dataframe tbody tr th:only-of-type {\n",
       "        vertical-align: middle;\n",
       "    }\n",
       "\n",
       "    .dataframe tbody tr th {\n",
       "        vertical-align: top;\n",
       "    }\n",
       "\n",
       "    .dataframe thead th {\n",
       "        text-align: right;\n",
       "    }\n",
       "</style>\n",
       "<table border=\"1\" class=\"dataframe\">\n",
       "  <thead>\n",
       "    <tr style=\"text-align: right;\">\n",
       "      <th></th>\n",
       "      <th>Unnamed: 0</th>\n",
       "      <th>Branch</th>\n",
       "      <th>Call Purpose</th>\n",
       "      <th>Time Block</th>\n",
       "      <th>Incoming or Outgoing</th>\n",
       "      <th>Queue</th>\n",
       "      <th>Rep ID</th>\n",
       "      <th>Sale</th>\n",
       "      <th>Lost Call</th>\n",
       "      <th>Abandoned</th>\n",
       "      <th>Busy Minutes</th>\n",
       "      <th>Not Ready Minutes</th>\n",
       "      <th>Incoming Wait Time</th>\n",
       "      <th>During Call Wait Time</th>\n",
       "      <th>Calls</th>\n",
       "    </tr>\n",
       "  </thead>\n",
       "  <tbody>\n",
       "    <tr>\n",
       "      <th>240</th>\n",
       "      <td>240</td>\n",
       "      <td>North</td>\n",
       "      <td>Product Support</td>\n",
       "      <td>5:00 PM</td>\n",
       "      <td>Outgoing</td>\n",
       "      <td>B</td>\n",
       "      <td>Brent</td>\n",
       "      <td>NO</td>\n",
       "      <td>0</td>\n",
       "      <td>0</td>\n",
       "      <td>10</td>\n",
       "      <td>2</td>\n",
       "      <td>NaN</td>\n",
       "      <td>3</td>\n",
       "      <td>1</td>\n",
       "    </tr>\n",
       "    <tr>\n",
       "      <th>241</th>\n",
       "      <td>241</td>\n",
       "      <td>North</td>\n",
       "      <td>Product Support</td>\n",
       "      <td>5:00 PM</td>\n",
       "      <td>Outgoing</td>\n",
       "      <td>A</td>\n",
       "      <td>Joe</td>\n",
       "      <td>NO</td>\n",
       "      <td>0</td>\n",
       "      <td>0</td>\n",
       "      <td>8</td>\n",
       "      <td>3</td>\n",
       "      <td>NaN</td>\n",
       "      <td>2</td>\n",
       "      <td>1</td>\n",
       "    </tr>\n",
       "    <tr>\n",
       "      <th>242</th>\n",
       "      <td>242</td>\n",
       "      <td>North</td>\n",
       "      <td>Product Support</td>\n",
       "      <td>5:00 PM</td>\n",
       "      <td>Outgoing</td>\n",
       "      <td>A</td>\n",
       "      <td>Amanda</td>\n",
       "      <td>NO</td>\n",
       "      <td>0</td>\n",
       "      <td>0</td>\n",
       "      <td>12</td>\n",
       "      <td>1</td>\n",
       "      <td>NaN</td>\n",
       "      <td>2</td>\n",
       "      <td>1</td>\n",
       "    </tr>\n",
       "    <tr>\n",
       "      <th>243</th>\n",
       "      <td>243</td>\n",
       "      <td>North</td>\n",
       "      <td>Product Support</td>\n",
       "      <td>5:00 PM</td>\n",
       "      <td>Outgoing</td>\n",
       "      <td>A</td>\n",
       "      <td>Cam</td>\n",
       "      <td>NO</td>\n",
       "      <td>0</td>\n",
       "      <td>0</td>\n",
       "      <td>11</td>\n",
       "      <td>2</td>\n",
       "      <td>NaN</td>\n",
       "      <td>2</td>\n",
       "      <td>1</td>\n",
       "    </tr>\n",
       "    <tr>\n",
       "      <th>244</th>\n",
       "      <td>244</td>\n",
       "      <td>North</td>\n",
       "      <td>Product Support</td>\n",
       "      <td>5:00 PM</td>\n",
       "      <td>Outgoing</td>\n",
       "      <td>B</td>\n",
       "      <td>Xander</td>\n",
       "      <td>NO</td>\n",
       "      <td>0</td>\n",
       "      <td>0</td>\n",
       "      <td>8</td>\n",
       "      <td>1</td>\n",
       "      <td>NaN</td>\n",
       "      <td>4</td>\n",
       "      <td>1</td>\n",
       "    </tr>\n",
       "  </tbody>\n",
       "</table>\n",
       "</div>"
      ],
      "text/plain": [
       "     Unnamed: 0 Branch     Call Purpose Time Block Incoming or Outgoing Queue  \\\n",
       "240         240  North  Product Support    5:00 PM             Outgoing     B   \n",
       "241         241  North  Product Support    5:00 PM             Outgoing     A   \n",
       "242         242  North  Product Support    5:00 PM             Outgoing     A   \n",
       "243         243  North  Product Support    5:00 PM             Outgoing     A   \n",
       "244         244  North  Product Support    5:00 PM             Outgoing     B   \n",
       "\n",
       "     Rep ID Sale  Lost Call  Abandoned  Busy Minutes  Not Ready Minutes  \\\n",
       "240   Brent   NO          0          0            10                  2   \n",
       "241     Joe   NO          0          0             8                  3   \n",
       "242  Amanda   NO          0          0            12                  1   \n",
       "243     Cam   NO          0          0            11                  2   \n",
       "244  Xander   NO          0          0             8                  1   \n",
       "\n",
       "     Incoming Wait Time  During Call Wait Time  Calls  \n",
       "240                 NaN                      3      1  \n",
       "241                 NaN                      2      1  \n",
       "242                 NaN                      2      1  \n",
       "243                 NaN                      2      1  \n",
       "244                 NaN                      4      1  "
      ]
     },
     "execution_count": 16,
     "metadata": {},
     "output_type": "execute_result"
    }
   ],
   "source": [
    "north_df.tail()"
   ]
  },
  {
   "cell_type": "markdown",
   "id": "2a9b34d8",
   "metadata": {},
   "source": [
    "#### EDA Question 1B:  How many reps are in the South branch?  "
   ]
  },
  {
   "cell_type": "code",
   "execution_count": 36,
   "id": "3c715bbf",
   "metadata": {},
   "outputs": [
    {
     "data": {
      "text/plain": [
       "Eric      35\n",
       "Randy     33\n",
       "Sandy     32\n",
       "Helga     31\n",
       "Kate      29\n",
       "George    29\n",
       "Karl      28\n",
       "Susan     26\n",
       "Josh      26\n",
       "Sharon    25\n",
       "Alice     20\n",
       "Name: Rep ID, dtype: int64"
      ]
     },
     "execution_count": 36,
     "metadata": {},
     "output_type": "execute_result"
    }
   ],
   "source": [
    "#Code Used:\n",
    "south_df['Rep ID'].value_counts()"
   ]
  },
  {
   "cell_type": "code",
   "execution_count": 37,
   "id": "0111a96e",
   "metadata": {},
   "outputs": [
    {
     "data": {
      "text/html": [
       "<div>\n",
       "<style scoped>\n",
       "    .dataframe tbody tr th:only-of-type {\n",
       "        vertical-align: middle;\n",
       "    }\n",
       "\n",
       "    .dataframe tbody tr th {\n",
       "        vertical-align: top;\n",
       "    }\n",
       "\n",
       "    .dataframe thead th {\n",
       "        text-align: right;\n",
       "    }\n",
       "</style>\n",
       "<table border=\"1\" class=\"dataframe\">\n",
       "  <thead>\n",
       "    <tr style=\"text-align: right;\">\n",
       "      <th></th>\n",
       "      <th>Unnamed: 0</th>\n",
       "      <th>Branch</th>\n",
       "      <th>Call Purpose</th>\n",
       "      <th>Time Block</th>\n",
       "      <th>Incoming or Outgoing</th>\n",
       "      <th>Queue</th>\n",
       "      <th>Rep ID</th>\n",
       "      <th>Sale</th>\n",
       "      <th>Lost Call</th>\n",
       "      <th>Abandoned</th>\n",
       "      <th>Busy Minutes</th>\n",
       "      <th>Not Ready Minutes</th>\n",
       "      <th>Incoming Wait Time</th>\n",
       "      <th>During Call Wait Time</th>\n",
       "      <th>Calls</th>\n",
       "    </tr>\n",
       "  </thead>\n",
       "  <tbody>\n",
       "    <tr>\n",
       "      <th>309</th>\n",
       "      <td>309</td>\n",
       "      <td>South</td>\n",
       "      <td>Product Support</td>\n",
       "      <td>5:00 PM</td>\n",
       "      <td>Outgoing</td>\n",
       "      <td>D</td>\n",
       "      <td>Helga</td>\n",
       "      <td>NO</td>\n",
       "      <td>0</td>\n",
       "      <td>0</td>\n",
       "      <td>10</td>\n",
       "      <td>3</td>\n",
       "      <td>NaN</td>\n",
       "      <td>4</td>\n",
       "      <td>1</td>\n",
       "    </tr>\n",
       "    <tr>\n",
       "      <th>310</th>\n",
       "      <td>310</td>\n",
       "      <td>South</td>\n",
       "      <td>Product Support</td>\n",
       "      <td>5:00 PM</td>\n",
       "      <td>Outgoing</td>\n",
       "      <td>C</td>\n",
       "      <td>Susan</td>\n",
       "      <td>NO</td>\n",
       "      <td>0</td>\n",
       "      <td>0</td>\n",
       "      <td>12</td>\n",
       "      <td>3</td>\n",
       "      <td>NaN</td>\n",
       "      <td>4</td>\n",
       "      <td>1</td>\n",
       "    </tr>\n",
       "    <tr>\n",
       "      <th>311</th>\n",
       "      <td>311</td>\n",
       "      <td>South</td>\n",
       "      <td>Product Support</td>\n",
       "      <td>5:00 PM</td>\n",
       "      <td>Outgoing</td>\n",
       "      <td>C</td>\n",
       "      <td>Sandy</td>\n",
       "      <td>NO</td>\n",
       "      <td>0</td>\n",
       "      <td>0</td>\n",
       "      <td>9</td>\n",
       "      <td>3</td>\n",
       "      <td>NaN</td>\n",
       "      <td>4</td>\n",
       "      <td>1</td>\n",
       "    </tr>\n",
       "    <tr>\n",
       "      <th>312</th>\n",
       "      <td>312</td>\n",
       "      <td>South</td>\n",
       "      <td>Product Support</td>\n",
       "      <td>5:00 PM</td>\n",
       "      <td>Outgoing</td>\n",
       "      <td>C</td>\n",
       "      <td>Eric</td>\n",
       "      <td>NO</td>\n",
       "      <td>0</td>\n",
       "      <td>0</td>\n",
       "      <td>10</td>\n",
       "      <td>1</td>\n",
       "      <td>NaN</td>\n",
       "      <td>2</td>\n",
       "      <td>1</td>\n",
       "    </tr>\n",
       "    <tr>\n",
       "      <th>313</th>\n",
       "      <td>313</td>\n",
       "      <td>South</td>\n",
       "      <td>Product Support</td>\n",
       "      <td>5:00 PM</td>\n",
       "      <td>Outgoing</td>\n",
       "      <td>D</td>\n",
       "      <td>George</td>\n",
       "      <td>NO</td>\n",
       "      <td>0</td>\n",
       "      <td>0</td>\n",
       "      <td>10</td>\n",
       "      <td>2</td>\n",
       "      <td>NaN</td>\n",
       "      <td>3</td>\n",
       "      <td>1</td>\n",
       "    </tr>\n",
       "  </tbody>\n",
       "</table>\n",
       "</div>"
      ],
      "text/plain": [
       "     Unnamed: 0 Branch     Call Purpose Time Block Incoming or Outgoing Queue  \\\n",
       "309         309  South  Product Support    5:00 PM             Outgoing     D   \n",
       "310         310  South  Product Support    5:00 PM             Outgoing     C   \n",
       "311         311  South  Product Support    5:00 PM             Outgoing     C   \n",
       "312         312  South  Product Support    5:00 PM             Outgoing     C   \n",
       "313         313  South  Product Support    5:00 PM             Outgoing     D   \n",
       "\n",
       "     Rep ID Sale  Lost Call  Abandoned  Busy Minutes  Not Ready Minutes  \\\n",
       "309   Helga   NO          0          0            10                  3   \n",
       "310   Susan   NO          0          0            12                  3   \n",
       "311   Sandy   NO          0          0             9                  3   \n",
       "312    Eric   NO          0          0            10                  1   \n",
       "313  George   NO          0          0            10                  2   \n",
       "\n",
       "     Incoming Wait Time  During Call Wait Time  Calls  \n",
       "309                 NaN                      4      1  \n",
       "310                 NaN                      4      1  \n",
       "311                 NaN                      4      1  \n",
       "312                 NaN                      2      1  \n",
       "313                 NaN                      3      1  "
      ]
     },
     "execution_count": 37,
     "metadata": {},
     "output_type": "execute_result"
    }
   ],
   "source": [
    "south_df.tail()"
   ]
  },
  {
   "cell_type": "markdown",
   "id": "a872f045",
   "metadata": {},
   "source": [
    "#### EDA Question 2A:  What is the average busy minutes, not ready minutes, incoming wait time, and during call wait time for the North branch? "
   ]
  },
  {
   "cell_type": "code",
   "execution_count": 38,
   "id": "3759305f",
   "metadata": {},
   "outputs": [
    {
     "data": {
      "text/plain": [
       "Busy Minutes             9.987755\n",
       "Not Ready Minutes        1.914286\n",
       "Incoming Wait Time       3.048780\n",
       "During Call Wait Time    2.967347\n",
       "dtype: float64"
      ]
     },
     "execution_count": 38,
     "metadata": {},
     "output_type": "execute_result"
    }
   ],
   "source": [
    "#Code Used:\n",
    "north_df[['Busy Minutes', 'Not Ready Minutes', 'Incoming Wait Time', 'During Call Wait Time']].mean()"
   ]
  },
  {
   "cell_type": "markdown",
   "id": "3851cf3e",
   "metadata": {},
   "source": [
    "#### EDA Question 2B:  What is the average busy minutes, not ready minutes, incoming wait time, and during call wait time for the South branch? "
   ]
  },
  {
   "cell_type": "code",
   "execution_count": 39,
   "id": "a77ec152",
   "metadata": {},
   "outputs": [
    {
     "data": {
      "text/plain": [
       "Busy Minutes             10.054140\n",
       "Not Ready Minutes         1.910828\n",
       "Incoming Wait Time        3.000000\n",
       "During Call Wait Time     3.076433\n",
       "dtype: float64"
      ]
     },
     "execution_count": 39,
     "metadata": {},
     "output_type": "execute_result"
    }
   ],
   "source": [
    "#Code Used:\n",
    "south_df[['Busy Minutes', 'Not Ready Minutes', 'Incoming Wait Time', 'During Call Wait Time']].mean()"
   ]
  },
  {
   "cell_type": "markdown",
   "id": "75915553",
   "metadata": {},
   "source": [
    "#### EDA Question 3:  What is the number of calls taken for each time block(Both North and South combined)?"
   ]
  },
  {
   "cell_type": "code",
   "execution_count": 40,
   "id": "49566936",
   "metadata": {},
   "outputs": [
    {
     "name": "stdout",
     "output_type": "stream",
     "text": [
      "12:00 PM    45\n",
      "10:00 AM    43\n",
      "2:00 PM     35\n",
      "3:00 PM     30\n",
      "4:00 PM     28\n",
      "11:00 AM    25\n",
      "1:00 PM     17\n",
      "5:00 PM     17\n",
      "9:00 AM      5\n",
      "Name: Time Block, dtype: int64\n",
      "12:00 PM    75\n",
      "10:00 AM    56\n",
      "3:00 PM     43\n",
      "11:00 AM    31\n",
      "2:00 PM     30\n",
      "5:00 PM     26\n",
      "4:00 PM     25\n",
      "1:00 PM     23\n",
      "9:00 AM      5\n",
      "Name: Time Block, dtype: int64\n"
     ]
    }
   ],
   "source": [
    "# Code Used:\n",
    "a = north_df[\"Time Block\"].value_counts()\n",
    "b = south_df[\"Time Block\"].value_counts()\n",
    "#result = pd.concat([a,b]).groupby(['Calls', 'Time Block']).sum()\n",
    "print(a)\n",
    "print(b)\n"
   ]
  },
  {
   "cell_type": "markdown",
   "id": "40b1fd3f",
   "metadata": {},
   "source": [
    "##### Record your answers for the EDA section by double clicking here:\n",
    "- 1a) Reps in the North Branch = 9\n",
    "- 1b) Reps in the South Branch = 11\n",
    "\n",
    "\n",
    "- 2a) North Branch, (round to the nearest hundredth):\n",
    "> - Busy Minutes = 9.99\n",
    "> - Not Ready Minutes = 1.91\n",
    "> - Incoming Wait Time = 3.05\n",
    "> - During Call Wait Time = 2.97\n",
    "- 2b) South Branch, (round to the nearest hundredth):\n",
    "> - Busy Minutes = 10.05\n",
    "> - Not Ready Minutes = 1.91\n",
    "> - Incoming Wait Time = 3.00\n",
    "> - During Call Wait Time = 3.08\n",
    "- 3) Total Calls taken for all branches per time block:\n",
    "> - 9:00AM   = 10\n",
    "> - 10:00AM  = 99\n",
    "> - 11:00AM  = 56\n",
    "> - 12:00PM  = 120\n",
    "> - 1:00PM   = 40\n",
    "> - 2:00PM   = 65\n",
    "> - 3:00PM   = 73\n",
    "> - 4:00PM   = 53\n",
    "> - 5:00PM   = 43\n",
    "\n"
   ]
  },
  {
   "cell_type": "markdown",
   "id": "446048d3",
   "metadata": {},
   "source": [
    "<span style=\"background-color:orangered; color:orangered;\">- - - - - - - - - - - - - - - - - - - - - - - - - - - - - - - - - - - - - - - - - - - - - - - - - - - - - - - - - - - - - - - - - - - - - - - - - - - - - - - - - - - - - - - - -</span>"
   ]
  },
  {
   "cell_type": "markdown",
   "id": "366bfb19",
   "metadata": {},
   "source": [
    "## Cleaning Your Data \n",
    "Now you need to clean up the datasets. When cleaning the datasets, you may find that there isn't dirty data to clean. That is okay! Some questions you need to answer about the data sets.\n",
    "* Add additional code blocks as needed to show how you came to your conclusions. Add comments in your code blocks to help others understand your thinking. "
   ]
  },
  {
   "cell_type": "markdown",
   "id": "c3564d69",
   "metadata": {},
   "source": [
    "#### Cleaning Question 1:  Is there any missing data and if yes explain what you would do with the missing data and why?\n",
    "##### Record your answer by double clicking here:\n",
    "> Your Answer: We could see missing data in Lost Call, Sale, Unnamed: 0 column ,we have to delete(drop) the rows and columns having null values."
   ]
  },
  {
   "cell_type": "code",
   "execution_count": 41,
   "id": "b77fb574",
   "metadata": {},
   "outputs": [
    {
     "data": {
      "text/plain": [
       "Outgoing    188\n",
       "Incoming    126\n",
       "Name: Incoming or Outgoing, dtype: int64"
      ]
     },
     "execution_count": 41,
     "metadata": {},
     "output_type": "execute_result"
    }
   ],
   "source": [
    "# Code Used\n",
    "# Add Additional Cells as needed.\n",
    "north_df['Incoming or Outgoing'].value_counts()\n",
    "south_df['Incoming or Outgoing'].value_counts()\n",
    "\n"
   ]
  },
  {
   "cell_type": "code",
   "execution_count": 65,
   "id": "2613ebf1",
   "metadata": {},
   "outputs": [
    {
     "name": "stdout",
     "output_type": "stream",
     "text": [
      "<class 'pandas.core.frame.DataFrame'>\n",
      "RangeIndex: 245 entries, 0 to 244\n",
      "Data columns (total 15 columns):\n",
      " #   Column                 Non-Null Count  Dtype  \n",
      "---  ------                 --------------  -----  \n",
      " 0   Unnamed: 0             245 non-null    int64  \n",
      " 1   Branch                 245 non-null    object \n",
      " 2   Call Purpose           245 non-null    object \n",
      " 3   Time Block             245 non-null    object \n",
      " 4   Incoming or Outgoing   245 non-null    object \n",
      " 5   Queue                  245 non-null    object \n",
      " 6   Rep ID                 245 non-null    object \n",
      " 7   Sale                   245 non-null    object \n",
      " 8   Lost Call              245 non-null    int64  \n",
      " 9   Abandoned              245 non-null    int64  \n",
      " 10  Busy Minutes           245 non-null    int64  \n",
      " 11  Not Ready Minutes      245 non-null    int64  \n",
      " 12  Incoming Wait Time     82 non-null     float64\n",
      " 13  During Call Wait Time  245 non-null    int64  \n",
      " 14  Calls                  245 non-null    int64  \n",
      "dtypes: float64(1), int64(7), object(7)\n",
      "memory usage: 28.8+ KB\n"
     ]
    }
   ],
   "source": [
    "north_df.info()"
   ]
  },
  {
   "cell_type": "code",
   "execution_count": 66,
   "id": "4e667222",
   "metadata": {},
   "outputs": [
    {
     "data": {
      "text/plain": [
       "Unnamed: 0                 0\n",
       "Branch                     0\n",
       "Call Purpose               0\n",
       "Time Block                 0\n",
       "Incoming or Outgoing       0\n",
       "Queue                      0\n",
       "Rep ID                     0\n",
       "Sale                       0\n",
       "Lost Call                  0\n",
       "Abandoned                  0\n",
       "Busy Minutes               0\n",
       "Not Ready Minutes          0\n",
       "Incoming Wait Time       163\n",
       "During Call Wait Time      0\n",
       "Calls                      0\n",
       "dtype: int64"
      ]
     },
     "execution_count": 66,
     "metadata": {},
     "output_type": "execute_result"
    }
   ],
   "source": [
    "north_df.isna().sum()"
   ]
  },
  {
   "cell_type": "code",
   "execution_count": 42,
   "id": "aec657f1",
   "metadata": {},
   "outputs": [
    {
     "data": {
      "text/plain": [
       "Brent     37\n",
       "Lilly     30\n",
       "Todd      29\n",
       "Duke      29\n",
       "Joe       26\n",
       "Cam       24\n",
       "Xander    24\n",
       "Amanda    23\n",
       "Andy      23\n",
       "Name: Rep ID, dtype: int64"
      ]
     },
     "execution_count": 42,
     "metadata": {},
     "output_type": "execute_result"
    }
   ],
   "source": [
    "north_df['Rep ID'].value_counts()"
   ]
  },
  {
   "cell_type": "code",
   "execution_count": 43,
   "id": "6018a56c",
   "metadata": {},
   "outputs": [
    {
     "data": {
      "text/plain": [
       "0      False\n",
       "1      False\n",
       "2      False\n",
       "3      False\n",
       "4      False\n",
       "       ...  \n",
       "240    False\n",
       "241    False\n",
       "242    False\n",
       "243    False\n",
       "244    False\n",
       "Length: 245, dtype: bool"
      ]
     },
     "execution_count": 43,
     "metadata": {},
     "output_type": "execute_result"
    }
   ],
   "source": [
    "north_df.duplicated()"
   ]
  },
  {
   "cell_type": "markdown",
   "id": "dc47f020",
   "metadata": {},
   "source": [
    "#### Cleaning Question 2:  In the North data set, there are two separate \"YES\" values for a sale. Why and how did you rectify the issue?\n",
    "##### Record your answer by double clicking here:\n",
    "> Your Answer: Removed the Sale column as it is not needed"
   ]
  },
  {
   "cell_type": "code",
   "execution_count": 44,
   "id": "4e0fbad6",
   "metadata": {},
   "outputs": [
    {
     "name": "stdout",
     "output_type": "stream",
     "text": [
      "     Unnamed: 0 Branch     Call Purpose Time Block Incoming or Outgoing Queue  \\\n",
      "0             0  North        Complaint    9:00 AM             Incoming     B   \n",
      "1             1  North    Sales Support   11:00 AM             Incoming     A   \n",
      "2             2  North    Sales Support   11:00 AM             Incoming     B   \n",
      "3             3  North    Sales Support    4:00 PM             Incoming     B   \n",
      "4             4  North  Product Support   12:00 PM             Incoming     B   \n",
      "..          ...    ...              ...        ...                  ...   ...   \n",
      "240         240  North  Product Support    5:00 PM             Outgoing     B   \n",
      "241         241  North  Product Support    5:00 PM             Outgoing     A   \n",
      "242         242  North  Product Support    5:00 PM             Outgoing     A   \n",
      "243         243  North  Product Support    5:00 PM             Outgoing     A   \n",
      "244         244  North  Product Support    5:00 PM             Outgoing     B   \n",
      "\n",
      "     Rep ID Sale  Lost Call  Abandoned  Busy Minutes  Not Ready Minutes  \\\n",
      "0     Brent   NO          0          1             9                  2   \n",
      "1       Cam   NO          0          0            11                  1   \n",
      "2      Todd   NO          0          0             9                  3   \n",
      "3     Brent   NO          0          0            11                  2   \n",
      "4     Brent   NO          0          0             8                  2   \n",
      "..      ...  ...        ...        ...           ...                ...   \n",
      "240   Brent   NO          0          0            10                  2   \n",
      "241     Joe   NO          0          0             8                  3   \n",
      "242  Amanda   NO          0          0            12                  1   \n",
      "243     Cam   NO          0          0            11                  2   \n",
      "244  Xander   NO          0          0             8                  1   \n",
      "\n",
      "     Incoming Wait Time  During Call Wait Time  Calls  \n",
      "0                   1.0                      4      1  \n",
      "1                   1.0                      3      1  \n",
      "2                   1.0                      3      1  \n",
      "3                   1.0                      4      1  \n",
      "4                   1.0                      4      1  \n",
      "..                  ...                    ...    ...  \n",
      "240                 NaN                      3      1  \n",
      "241                 NaN                      2      1  \n",
      "242                 NaN                      2      1  \n",
      "243                 NaN                      2      1  \n",
      "244                 NaN                      4      1  \n",
      "\n",
      "[245 rows x 15 columns]\n"
     ]
    }
   ],
   "source": [
    "#Code Used\n",
    "# Add Additional Cells as needed.\n",
    "north_df['Sale'] = north_df['Sale'].str.rstrip()\n",
    "print(north_df)"
   ]
  },
  {
   "cell_type": "markdown",
   "id": "715f375a",
   "metadata": {},
   "source": [
    "#### Cleaning Question 3:  Are there duplicates in the two data sets? If there are, how did you handle them?\n",
    "##### Record your answer by double clicking here:\n",
    "> Your Answer: There are no duplicates in two data sets"
   ]
  },
  {
   "cell_type": "code",
   "execution_count": 45,
   "id": "2323673a",
   "metadata": {},
   "outputs": [
    {
     "data": {
      "text/plain": [
       "0      False\n",
       "1      False\n",
       "2      False\n",
       "3      False\n",
       "4      False\n",
       "       ...  \n",
       "240    False\n",
       "241    False\n",
       "242    False\n",
       "243    False\n",
       "244    False\n",
       "Length: 245, dtype: bool"
      ]
     },
     "execution_count": 45,
     "metadata": {},
     "output_type": "execute_result"
    }
   ],
   "source": [
    "#Code Used\n",
    "# Add Additional Cells as needed.\n",
    "north_df.duplicated()"
   ]
  },
  {
   "cell_type": "code",
   "execution_count": 46,
   "id": "eeabefd5",
   "metadata": {},
   "outputs": [
    {
     "data": {
      "text/plain": [
       "0      False\n",
       "1      False\n",
       "2      False\n",
       "3      False\n",
       "4      False\n",
       "       ...  \n",
       "309    False\n",
       "310    False\n",
       "311    False\n",
       "312    False\n",
       "313    False\n",
       "Length: 314, dtype: bool"
      ]
     },
     "execution_count": 46,
     "metadata": {},
     "output_type": "execute_result"
    }
   ],
   "source": [
    "south_df.duplicated()"
   ]
  },
  {
   "cell_type": "markdown",
   "id": "8ffaa865",
   "metadata": {},
   "source": [
    "#### Cleaning Question 4:  Is any of the data in the two data sets unnecessary? If yes, how did you handle it?\n",
    "##### Record your answer by double clicking here:\n",
    "> Your Answer: Have identified three columns Lost Call, Sale, Unnamed: 0 were not necessary and hence dropped it"
   ]
  },
  {
   "cell_type": "code",
   "execution_count": 47,
   "id": "78b45e70",
   "metadata": {},
   "outputs": [
    {
     "name": "stdout",
     "output_type": "stream",
     "text": [
      "    Branch     Call Purpose Time Block Incoming or Outgoing Queue  Rep ID  \\\n",
      "0    North        Complaint    9:00 AM             Incoming     B   Brent   \n",
      "1    North    Sales Support   11:00 AM             Incoming     A     Cam   \n",
      "2    North    Sales Support   11:00 AM             Incoming     B    Todd   \n",
      "3    North    Sales Support    4:00 PM             Incoming     B   Brent   \n",
      "4    North  Product Support   12:00 PM             Incoming     B   Brent   \n",
      "..     ...              ...        ...                  ...   ...     ...   \n",
      "240  North  Product Support    5:00 PM             Outgoing     B   Brent   \n",
      "241  North  Product Support    5:00 PM             Outgoing     A     Joe   \n",
      "242  North  Product Support    5:00 PM             Outgoing     A  Amanda   \n",
      "243  North  Product Support    5:00 PM             Outgoing     A     Cam   \n",
      "244  North  Product Support    5:00 PM             Outgoing     B  Xander   \n",
      "\n",
      "     Abandoned  Busy Minutes  Not Ready Minutes  Incoming Wait Time  \\\n",
      "0            1             9                  2                 1.0   \n",
      "1            0            11                  1                 1.0   \n",
      "2            0             9                  3                 1.0   \n",
      "3            0            11                  2                 1.0   \n",
      "4            0             8                  2                 1.0   \n",
      "..         ...           ...                ...                 ...   \n",
      "240          0            10                  2                 NaN   \n",
      "241          0             8                  3                 NaN   \n",
      "242          0            12                  1                 NaN   \n",
      "243          0            11                  2                 NaN   \n",
      "244          0             8                  1                 NaN   \n",
      "\n",
      "     During Call Wait Time  Calls  \n",
      "0                        4      1  \n",
      "1                        3      1  \n",
      "2                        3      1  \n",
      "3                        4      1  \n",
      "4                        4      1  \n",
      "..                     ...    ...  \n",
      "240                      3      1  \n",
      "241                      2      1  \n",
      "242                      2      1  \n",
      "243                      2      1  \n",
      "244                      4      1  \n",
      "\n",
      "[245 rows x 12 columns]\n"
     ]
    }
   ],
   "source": [
    "#Code Used\n",
    "# Add Additional Cells as needed.\n",
    "nd = north_df.drop(['Lost Call', 'Sale', 'Unnamed: 0'], axis=1)\n",
    "print(nd)"
   ]
  },
  {
   "cell_type": "code",
   "execution_count": 64,
   "id": "698f46cb",
   "metadata": {},
   "outputs": [
    {
     "name": "stdout",
     "output_type": "stream",
     "text": [
      "     Unnamed: 0 Branch Time Block Incoming or Outgoing Queue  Rep ID  \\\n",
      "0             0  South   10:00 AM             Incoming     D    Kate   \n",
      "1             1  South   10:00 AM             Incoming     C    Eric   \n",
      "2             2  South   10:00 AM             Incoming     C   Susan   \n",
      "3             3  South   10:00 AM             Incoming     C   Alice   \n",
      "4             4  South   12:00 PM             Incoming     C   Sandy   \n",
      "..          ...    ...        ...                  ...   ...     ...   \n",
      "309         309  South    5:00 PM             Outgoing     D   Helga   \n",
      "310         310  South    5:00 PM             Outgoing     C   Susan   \n",
      "311         311  South    5:00 PM             Outgoing     C   Sandy   \n",
      "312         312  South    5:00 PM             Outgoing     C    Eric   \n",
      "313         313  South    5:00 PM             Outgoing     D  George   \n",
      "\n",
      "     Abandoned  Busy Minutes  Not Ready Minutes  Incoming Wait Time  \\\n",
      "0            0             9                  1                 1.0   \n",
      "1            0             8                  2                 1.0   \n",
      "2            0            10                  2                 1.0   \n",
      "3            0            12                  1                 1.0   \n",
      "4            0             8                  3                 1.0   \n",
      "..         ...           ...                ...                 ...   \n",
      "309          0            10                  3                 NaN   \n",
      "310          0            12                  3                 NaN   \n",
      "311          0             9                  3                 NaN   \n",
      "312          0            10                  1                 NaN   \n",
      "313          0            10                  2                 NaN   \n",
      "\n",
      "     During Call Wait Time  Calls  \n",
      "0                        2      1  \n",
      "1                        4      1  \n",
      "2                        4      1  \n",
      "3                        3      1  \n",
      "4                        3      1  \n",
      "..                     ...    ...  \n",
      "309                      4      1  \n",
      "310                      4      1  \n",
      "311                      4      1  \n",
      "312                      2      1  \n",
      "313                      3      1  \n",
      "\n",
      "[314 rows x 12 columns]\n"
     ]
    }
   ],
   "source": [
    " sd = south_df.drop(['Lost Call', 'Sale', 'Call Purpose'], axis=1)\n",
    " print(sd)"
   ]
  },
  {
   "cell_type": "markdown",
   "id": "f67d89ab",
   "metadata": {},
   "source": [
    "<span style=\"background-color:orangered; color:orangered;\">- - - - - - - - - - - - - - - - - - - - - - - - - - - - - - - - - - - - - - - - - - - - - - - - - - - - - - - - - - - - - - - - - - - - - - - - - - - - - - - - - - - - - - - - -</span>"
   ]
  },
  {
   "cell_type": "markdown",
   "id": "73342a9a",
   "metadata": {},
   "source": [
    "## Data Manipulation\n",
    "Before you begin answering any questions, combine the two datasets together to create a third dataframe called df. You can use this third dataframe to compare the two call centers to company-wide trends.\n",
    "* Add additional code blocks as needed to show how you came to your conclusions. Add comments in your code blocks to help others understand your thinking. Record your answer by double clicking the below cell."
   ]
  },
  {
   "cell_type": "code",
   "execution_count": 65,
   "id": "e9705c34",
   "metadata": {},
   "outputs": [
    {
     "data": {
      "text/html": [
       "<div>\n",
       "<style scoped>\n",
       "    .dataframe tbody tr th:only-of-type {\n",
       "        vertical-align: middle;\n",
       "    }\n",
       "\n",
       "    .dataframe tbody tr th {\n",
       "        vertical-align: top;\n",
       "    }\n",
       "\n",
       "    .dataframe thead th {\n",
       "        text-align: right;\n",
       "    }\n",
       "</style>\n",
       "<table border=\"1\" class=\"dataframe\">\n",
       "  <thead>\n",
       "    <tr style=\"text-align: right;\">\n",
       "      <th></th>\n",
       "      <th>Branch</th>\n",
       "      <th>Call Purpose</th>\n",
       "      <th>Time Block</th>\n",
       "      <th>Incoming or Outgoing</th>\n",
       "      <th>Queue</th>\n",
       "      <th>Rep ID</th>\n",
       "      <th>Abandoned</th>\n",
       "      <th>Busy Minutes</th>\n",
       "      <th>Not Ready Minutes</th>\n",
       "      <th>Incoming Wait Time</th>\n",
       "      <th>During Call Wait Time</th>\n",
       "      <th>Calls</th>\n",
       "      <th>Unnamed: 0</th>\n",
       "    </tr>\n",
       "  </thead>\n",
       "  <tbody>\n",
       "    <tr>\n",
       "      <th>0</th>\n",
       "      <td>North</td>\n",
       "      <td>Complaint</td>\n",
       "      <td>9:00 AM</td>\n",
       "      <td>Incoming</td>\n",
       "      <td>B</td>\n",
       "      <td>Brent</td>\n",
       "      <td>1</td>\n",
       "      <td>9</td>\n",
       "      <td>2</td>\n",
       "      <td>1.0</td>\n",
       "      <td>4</td>\n",
       "      <td>1</td>\n",
       "      <td>NaN</td>\n",
       "    </tr>\n",
       "    <tr>\n",
       "      <th>1</th>\n",
       "      <td>North</td>\n",
       "      <td>Sales Support</td>\n",
       "      <td>11:00 AM</td>\n",
       "      <td>Incoming</td>\n",
       "      <td>A</td>\n",
       "      <td>Cam</td>\n",
       "      <td>0</td>\n",
       "      <td>11</td>\n",
       "      <td>1</td>\n",
       "      <td>1.0</td>\n",
       "      <td>3</td>\n",
       "      <td>1</td>\n",
       "      <td>NaN</td>\n",
       "    </tr>\n",
       "    <tr>\n",
       "      <th>2</th>\n",
       "      <td>North</td>\n",
       "      <td>Sales Support</td>\n",
       "      <td>11:00 AM</td>\n",
       "      <td>Incoming</td>\n",
       "      <td>B</td>\n",
       "      <td>Todd</td>\n",
       "      <td>0</td>\n",
       "      <td>9</td>\n",
       "      <td>3</td>\n",
       "      <td>1.0</td>\n",
       "      <td>3</td>\n",
       "      <td>1</td>\n",
       "      <td>NaN</td>\n",
       "    </tr>\n",
       "    <tr>\n",
       "      <th>3</th>\n",
       "      <td>North</td>\n",
       "      <td>Sales Support</td>\n",
       "      <td>4:00 PM</td>\n",
       "      <td>Incoming</td>\n",
       "      <td>B</td>\n",
       "      <td>Brent</td>\n",
       "      <td>0</td>\n",
       "      <td>11</td>\n",
       "      <td>2</td>\n",
       "      <td>1.0</td>\n",
       "      <td>4</td>\n",
       "      <td>1</td>\n",
       "      <td>NaN</td>\n",
       "    </tr>\n",
       "    <tr>\n",
       "      <th>4</th>\n",
       "      <td>North</td>\n",
       "      <td>Product Support</td>\n",
       "      <td>12:00 PM</td>\n",
       "      <td>Incoming</td>\n",
       "      <td>B</td>\n",
       "      <td>Brent</td>\n",
       "      <td>0</td>\n",
       "      <td>8</td>\n",
       "      <td>2</td>\n",
       "      <td>1.0</td>\n",
       "      <td>4</td>\n",
       "      <td>1</td>\n",
       "      <td>NaN</td>\n",
       "    </tr>\n",
       "    <tr>\n",
       "      <th>...</th>\n",
       "      <td>...</td>\n",
       "      <td>...</td>\n",
       "      <td>...</td>\n",
       "      <td>...</td>\n",
       "      <td>...</td>\n",
       "      <td>...</td>\n",
       "      <td>...</td>\n",
       "      <td>...</td>\n",
       "      <td>...</td>\n",
       "      <td>...</td>\n",
       "      <td>...</td>\n",
       "      <td>...</td>\n",
       "      <td>...</td>\n",
       "    </tr>\n",
       "    <tr>\n",
       "      <th>554</th>\n",
       "      <td>South</td>\n",
       "      <td>NaN</td>\n",
       "      <td>5:00 PM</td>\n",
       "      <td>Outgoing</td>\n",
       "      <td>D</td>\n",
       "      <td>Helga</td>\n",
       "      <td>0</td>\n",
       "      <td>10</td>\n",
       "      <td>3</td>\n",
       "      <td>NaN</td>\n",
       "      <td>4</td>\n",
       "      <td>1</td>\n",
       "      <td>309.0</td>\n",
       "    </tr>\n",
       "    <tr>\n",
       "      <th>555</th>\n",
       "      <td>South</td>\n",
       "      <td>NaN</td>\n",
       "      <td>5:00 PM</td>\n",
       "      <td>Outgoing</td>\n",
       "      <td>C</td>\n",
       "      <td>Susan</td>\n",
       "      <td>0</td>\n",
       "      <td>12</td>\n",
       "      <td>3</td>\n",
       "      <td>NaN</td>\n",
       "      <td>4</td>\n",
       "      <td>1</td>\n",
       "      <td>310.0</td>\n",
       "    </tr>\n",
       "    <tr>\n",
       "      <th>556</th>\n",
       "      <td>South</td>\n",
       "      <td>NaN</td>\n",
       "      <td>5:00 PM</td>\n",
       "      <td>Outgoing</td>\n",
       "      <td>C</td>\n",
       "      <td>Sandy</td>\n",
       "      <td>0</td>\n",
       "      <td>9</td>\n",
       "      <td>3</td>\n",
       "      <td>NaN</td>\n",
       "      <td>4</td>\n",
       "      <td>1</td>\n",
       "      <td>311.0</td>\n",
       "    </tr>\n",
       "    <tr>\n",
       "      <th>557</th>\n",
       "      <td>South</td>\n",
       "      <td>NaN</td>\n",
       "      <td>5:00 PM</td>\n",
       "      <td>Outgoing</td>\n",
       "      <td>C</td>\n",
       "      <td>Eric</td>\n",
       "      <td>0</td>\n",
       "      <td>10</td>\n",
       "      <td>1</td>\n",
       "      <td>NaN</td>\n",
       "      <td>2</td>\n",
       "      <td>1</td>\n",
       "      <td>312.0</td>\n",
       "    </tr>\n",
       "    <tr>\n",
       "      <th>558</th>\n",
       "      <td>South</td>\n",
       "      <td>NaN</td>\n",
       "      <td>5:00 PM</td>\n",
       "      <td>Outgoing</td>\n",
       "      <td>D</td>\n",
       "      <td>George</td>\n",
       "      <td>0</td>\n",
       "      <td>10</td>\n",
       "      <td>2</td>\n",
       "      <td>NaN</td>\n",
       "      <td>3</td>\n",
       "      <td>1</td>\n",
       "      <td>313.0</td>\n",
       "    </tr>\n",
       "  </tbody>\n",
       "</table>\n",
       "<p>559 rows × 13 columns</p>\n",
       "</div>"
      ],
      "text/plain": [
       "    Branch     Call Purpose Time Block Incoming or Outgoing Queue  Rep ID  \\\n",
       "0    North        Complaint    9:00 AM             Incoming     B   Brent   \n",
       "1    North    Sales Support   11:00 AM             Incoming     A     Cam   \n",
       "2    North    Sales Support   11:00 AM             Incoming     B    Todd   \n",
       "3    North    Sales Support    4:00 PM             Incoming     B   Brent   \n",
       "4    North  Product Support   12:00 PM             Incoming     B   Brent   \n",
       "..     ...              ...        ...                  ...   ...     ...   \n",
       "554  South              NaN    5:00 PM             Outgoing     D   Helga   \n",
       "555  South              NaN    5:00 PM             Outgoing     C   Susan   \n",
       "556  South              NaN    5:00 PM             Outgoing     C   Sandy   \n",
       "557  South              NaN    5:00 PM             Outgoing     C    Eric   \n",
       "558  South              NaN    5:00 PM             Outgoing     D  George   \n",
       "\n",
       "     Abandoned  Busy Minutes  Not Ready Minutes  Incoming Wait Time  \\\n",
       "0            1             9                  2                 1.0   \n",
       "1            0            11                  1                 1.0   \n",
       "2            0             9                  3                 1.0   \n",
       "3            0            11                  2                 1.0   \n",
       "4            0             8                  2                 1.0   \n",
       "..         ...           ...                ...                 ...   \n",
       "554          0            10                  3                 NaN   \n",
       "555          0            12                  3                 NaN   \n",
       "556          0             9                  3                 NaN   \n",
       "557          0            10                  1                 NaN   \n",
       "558          0            10                  2                 NaN   \n",
       "\n",
       "     During Call Wait Time  Calls  Unnamed: 0  \n",
       "0                        4      1         NaN  \n",
       "1                        3      1         NaN  \n",
       "2                        3      1         NaN  \n",
       "3                        4      1         NaN  \n",
       "4                        4      1         NaN  \n",
       "..                     ...    ...         ...  \n",
       "554                      4      1       309.0  \n",
       "555                      4      1       310.0  \n",
       "556                      4      1       311.0  \n",
       "557                      2      1       312.0  \n",
       "558                      3      1       313.0  \n",
       "\n",
       "[559 rows x 13 columns]"
      ]
     },
     "metadata": {},
     "output_type": "display_data"
    }
   ],
   "source": [
    "# Create dataframe for the entire company named df\n",
    "#c = [north_df, south_df]\n",
    "df = pd.merge(nd,sd, how='outer')\n",
    "display(df)"
   ]
  },
  {
   "cell_type": "markdown",
   "id": "7e87dfd1",
   "metadata": {},
   "source": [
    "#### Manipulation Question 1:  Group by Rep ID and sum the resulting structure. Sort by calls to determine which rep in each branch has the highest number of calls.\n",
    "\n",
    "##### Record your answer by double clicking here:\n",
    "Rep with the hightest number of calls and their total calls:\n",
    "- North Branch = Brent - 37 Calls\n",
    "- South Branch = Eric - 35 Calls\n"
   ]
  },
  {
   "cell_type": "code",
   "execution_count": 66,
   "id": "48898029",
   "metadata": {},
   "outputs": [
    {
     "data": {
      "text/plain": [
       "Rep ID\n",
       "Brent     37\n",
       "Eric      35\n",
       "Randy     33\n",
       "Sandy     32\n",
       "Helga     31\n",
       "Lilly     30\n",
       "Todd      29\n",
       "Duke      29\n",
       "George    29\n",
       "Kate      29\n",
       "Karl      28\n",
       "Josh      26\n",
       "Susan     26\n",
       "Joe       26\n",
       "Sharon    25\n",
       "Xander    24\n",
       "Cam       24\n",
       "Amanda    23\n",
       "Andy      23\n",
       "Alice     20\n",
       "Name: Calls, dtype: int64"
      ]
     },
     "execution_count": 66,
     "metadata": {},
     "output_type": "execute_result"
    }
   ],
   "source": [
    "#dff = north_df.groupby('Rep ID').agg('sum')\n",
    "#dff.sort_values('Calls', ascending=False)\n",
    "df.groupby('Rep ID').Calls.sum().sort_values(ascending=False)\n",
    "\n"
   ]
  },
  {
   "cell_type": "code",
   "execution_count": 67,
   "id": "8bf5eccb",
   "metadata": {},
   "outputs": [
    {
     "name": "stderr",
     "output_type": "stream",
     "text": [
      "C:\\Users\\keert\\AppData\\Local\\Temp\\ipykernel_3344\\1347511035.py:1: FutureWarning: The default value of numeric_only in DataFrameGroupBy.sum is deprecated. In a future version, numeric_only will default to False. Either specify numeric_only or select only columns which should be valid for the function.\n",
      "  dff1 = south_df.groupby('Rep ID').sum()\n"
     ]
    },
    {
     "data": {
      "text/html": [
       "<div>\n",
       "<style scoped>\n",
       "    .dataframe tbody tr th:only-of-type {\n",
       "        vertical-align: middle;\n",
       "    }\n",
       "\n",
       "    .dataframe tbody tr th {\n",
       "        vertical-align: top;\n",
       "    }\n",
       "\n",
       "    .dataframe thead th {\n",
       "        text-align: right;\n",
       "    }\n",
       "</style>\n",
       "<table border=\"1\" class=\"dataframe\">\n",
       "  <thead>\n",
       "    <tr style=\"text-align: right;\">\n",
       "      <th></th>\n",
       "      <th>Unnamed: 0</th>\n",
       "      <th>Lost Call</th>\n",
       "      <th>Abandoned</th>\n",
       "      <th>Busy Minutes</th>\n",
       "      <th>Not Ready Minutes</th>\n",
       "      <th>Incoming Wait Time</th>\n",
       "      <th>During Call Wait Time</th>\n",
       "      <th>Calls</th>\n",
       "    </tr>\n",
       "    <tr>\n",
       "      <th>Rep ID</th>\n",
       "      <th></th>\n",
       "      <th></th>\n",
       "      <th></th>\n",
       "      <th></th>\n",
       "      <th></th>\n",
       "      <th></th>\n",
       "      <th></th>\n",
       "      <th></th>\n",
       "    </tr>\n",
       "  </thead>\n",
       "  <tbody>\n",
       "    <tr>\n",
       "      <th>Eric</th>\n",
       "      <td>5039</td>\n",
       "      <td>0</td>\n",
       "      <td>0</td>\n",
       "      <td>361</td>\n",
       "      <td>54</td>\n",
       "      <td>47.0</td>\n",
       "      <td>112</td>\n",
       "      <td>35</td>\n",
       "    </tr>\n",
       "    <tr>\n",
       "      <th>Randy</th>\n",
       "      <td>4576</td>\n",
       "      <td>3</td>\n",
       "      <td>1</td>\n",
       "      <td>320</td>\n",
       "      <td>66</td>\n",
       "      <td>47.0</td>\n",
       "      <td>98</td>\n",
       "      <td>33</td>\n",
       "    </tr>\n",
       "    <tr>\n",
       "      <th>Sandy</th>\n",
       "      <td>4694</td>\n",
       "      <td>1</td>\n",
       "      <td>0</td>\n",
       "      <td>325</td>\n",
       "      <td>60</td>\n",
       "      <td>34.0</td>\n",
       "      <td>100</td>\n",
       "      <td>32</td>\n",
       "    </tr>\n",
       "    <tr>\n",
       "      <th>Helga</th>\n",
       "      <td>5236</td>\n",
       "      <td>0</td>\n",
       "      <td>2</td>\n",
       "      <td>292</td>\n",
       "      <td>58</td>\n",
       "      <td>36.0</td>\n",
       "      <td>95</td>\n",
       "      <td>31</td>\n",
       "    </tr>\n",
       "    <tr>\n",
       "      <th>George</th>\n",
       "      <td>4620</td>\n",
       "      <td>0</td>\n",
       "      <td>0</td>\n",
       "      <td>298</td>\n",
       "      <td>53</td>\n",
       "      <td>41.0</td>\n",
       "      <td>87</td>\n",
       "      <td>29</td>\n",
       "    </tr>\n",
       "    <tr>\n",
       "      <th>Kate</th>\n",
       "      <td>4615</td>\n",
       "      <td>0</td>\n",
       "      <td>0</td>\n",
       "      <td>291</td>\n",
       "      <td>61</td>\n",
       "      <td>37.0</td>\n",
       "      <td>83</td>\n",
       "      <td>29</td>\n",
       "    </tr>\n",
       "    <tr>\n",
       "      <th>Karl</th>\n",
       "      <td>4532</td>\n",
       "      <td>1</td>\n",
       "      <td>0</td>\n",
       "      <td>287</td>\n",
       "      <td>61</td>\n",
       "      <td>26.0</td>\n",
       "      <td>85</td>\n",
       "      <td>28</td>\n",
       "    </tr>\n",
       "    <tr>\n",
       "      <th>Josh</th>\n",
       "      <td>3960</td>\n",
       "      <td>3</td>\n",
       "      <td>0</td>\n",
       "      <td>260</td>\n",
       "      <td>50</td>\n",
       "      <td>31.0</td>\n",
       "      <td>83</td>\n",
       "      <td>26</td>\n",
       "    </tr>\n",
       "    <tr>\n",
       "      <th>Susan</th>\n",
       "      <td>4006</td>\n",
       "      <td>2</td>\n",
       "      <td>0</td>\n",
       "      <td>267</td>\n",
       "      <td>53</td>\n",
       "      <td>35.0</td>\n",
       "      <td>88</td>\n",
       "      <td>26</td>\n",
       "    </tr>\n",
       "    <tr>\n",
       "      <th>Sharon</th>\n",
       "      <td>4226</td>\n",
       "      <td>1</td>\n",
       "      <td>1</td>\n",
       "      <td>257</td>\n",
       "      <td>38</td>\n",
       "      <td>29.0</td>\n",
       "      <td>77</td>\n",
       "      <td>25</td>\n",
       "    </tr>\n",
       "    <tr>\n",
       "      <th>Alice</th>\n",
       "      <td>3637</td>\n",
       "      <td>0</td>\n",
       "      <td>0</td>\n",
       "      <td>199</td>\n",
       "      <td>46</td>\n",
       "      <td>15.0</td>\n",
       "      <td>58</td>\n",
       "      <td>20</td>\n",
       "    </tr>\n",
       "  </tbody>\n",
       "</table>\n",
       "</div>"
      ],
      "text/plain": [
       "        Unnamed: 0  Lost Call  Abandoned  Busy Minutes  Not Ready Minutes  \\\n",
       "Rep ID                                                                      \n",
       "Eric          5039          0          0           361                 54   \n",
       "Randy         4576          3          1           320                 66   \n",
       "Sandy         4694          1          0           325                 60   \n",
       "Helga         5236          0          2           292                 58   \n",
       "George        4620          0          0           298                 53   \n",
       "Kate          4615          0          0           291                 61   \n",
       "Karl          4532          1          0           287                 61   \n",
       "Josh          3960          3          0           260                 50   \n",
       "Susan         4006          2          0           267                 53   \n",
       "Sharon        4226          1          1           257                 38   \n",
       "Alice         3637          0          0           199                 46   \n",
       "\n",
       "        Incoming Wait Time  During Call Wait Time  Calls  \n",
       "Rep ID                                                    \n",
       "Eric                  47.0                    112     35  \n",
       "Randy                 47.0                     98     33  \n",
       "Sandy                 34.0                    100     32  \n",
       "Helga                 36.0                     95     31  \n",
       "George                41.0                     87     29  \n",
       "Kate                  37.0                     83     29  \n",
       "Karl                  26.0                     85     28  \n",
       "Josh                  31.0                     83     26  \n",
       "Susan                 35.0                     88     26  \n",
       "Sharon                29.0                     77     25  \n",
       "Alice                 15.0                     58     20  "
      ]
     },
     "execution_count": 67,
     "metadata": {},
     "output_type": "execute_result"
    }
   ],
   "source": [
    "dff1 = south_df.groupby('Rep ID').sum()\n",
    "dff1.sort_values('Calls', ascending=False)"
   ]
  },
  {
   "cell_type": "markdown",
   "id": "809293b9",
   "metadata": {},
   "source": [
    "#### Manipulation Question 2:  The average call abandonment rate is a KPI when it comes to determining call center efficiency. As you may recall, abandoned calls are calls where the customer hangs up due to long call times. What is the average call abandonment rate for each branch and the whole company? Do any of these fall out of the optimal range of 2-5%?\n",
    "##### Record your answer by double clicking here:\n",
    "Average Call Abandonment Rates (round to the nearest hundredth):\n",
    "- North Branch = 2.86%\n",
    "- South Branch = 1.27%\n",
    "- Company Wide = 1.97%\n",
    "- Do any of these fall out of the optimal range of 2-5%? Yes,the South Branch and the Company Wide abandonment rates fall out of the optimal range, as they are below 2%."
   ]
  },
  {
   "cell_type": "code",
   "execution_count": 68,
   "id": "3dff7534",
   "metadata": {},
   "outputs": [
    {
     "data": {
      "text/plain": [
       "2.857142857142857"
      ]
     },
     "execution_count": 68,
     "metadata": {},
     "output_type": "execute_result"
    }
   ],
   "source": [
    "# Code Used\n",
    "# Add Additional Cells as needed.\n",
    "#abandoment rate = [no of calls abandoned / total no of calls]*100\n",
    "nsr = north_df['Abandoned'] / north_df['Calls'] * 100\n",
    "nsr.mean()\n",
    "\n"
   ]
  },
  {
   "cell_type": "code",
   "execution_count": 69,
   "id": "ecb2fa16",
   "metadata": {},
   "outputs": [
    {
     "data": {
      "text/plain": [
       "1.2738853503184713"
      ]
     },
     "execution_count": 69,
     "metadata": {},
     "output_type": "execute_result"
    }
   ],
   "source": [
    "ssr = south_df['Abandoned'] / south_df['Calls'] * 100\n",
    "ssr.mean()"
   ]
  },
  {
   "cell_type": "code",
   "execution_count": 70,
   "id": "f3fec851",
   "metadata": {},
   "outputs": [
    {
     "data": {
      "text/plain": [
       "1.9677996422182469"
      ]
     },
     "execution_count": 70,
     "metadata": {},
     "output_type": "execute_result"
    }
   ],
   "source": [
    "#finding  the average call abandonment rates for  entire company df\n",
    "(df[\"Abandoned\"].sum()/df[\"Calls\"].sum())*100"
   ]
  },
  {
   "cell_type": "code",
   "execution_count": 71,
   "id": "2f23aaed",
   "metadata": {},
   "outputs": [
    {
     "data": {
      "text/html": [
       "<div>\n",
       "<style scoped>\n",
       "    .dataframe tbody tr th:only-of-type {\n",
       "        vertical-align: middle;\n",
       "    }\n",
       "\n",
       "    .dataframe tbody tr th {\n",
       "        vertical-align: top;\n",
       "    }\n",
       "\n",
       "    .dataframe thead tr th {\n",
       "        text-align: left;\n",
       "    }\n",
       "\n",
       "    .dataframe thead tr:last-of-type th {\n",
       "        text-align: right;\n",
       "    }\n",
       "</style>\n",
       "<table border=\"1\" class=\"dataframe\">\n",
       "  <thead>\n",
       "    <tr>\n",
       "      <th></th>\n",
       "      <th></th>\n",
       "      <th colspan=\"2\" halign=\"left\">Abandoned</th>\n",
       "    </tr>\n",
       "    <tr>\n",
       "      <th></th>\n",
       "      <th></th>\n",
       "      <th>mean</th>\n",
       "      <th>count</th>\n",
       "    </tr>\n",
       "    <tr>\n",
       "      <th>Branch</th>\n",
       "      <th>Abandoned</th>\n",
       "      <th></th>\n",
       "      <th></th>\n",
       "    </tr>\n",
       "  </thead>\n",
       "  <tbody>\n",
       "    <tr>\n",
       "      <th rowspan=\"2\" valign=\"top\">North</th>\n",
       "      <th>0</th>\n",
       "      <td>0.0</td>\n",
       "      <td>238</td>\n",
       "    </tr>\n",
       "    <tr>\n",
       "      <th>1</th>\n",
       "      <td>1.0</td>\n",
       "      <td>7</td>\n",
       "    </tr>\n",
       "    <tr>\n",
       "      <th rowspan=\"2\" valign=\"top\">South</th>\n",
       "      <th>0</th>\n",
       "      <td>0.0</td>\n",
       "      <td>310</td>\n",
       "    </tr>\n",
       "    <tr>\n",
       "      <th>1</th>\n",
       "      <td>1.0</td>\n",
       "      <td>4</td>\n",
       "    </tr>\n",
       "  </tbody>\n",
       "</table>\n",
       "</div>"
      ],
      "text/plain": [
       "                 Abandoned      \n",
       "                      mean count\n",
       "Branch Abandoned                \n",
       "North  0               0.0   238\n",
       "       1               1.0     7\n",
       "South  0               0.0   310\n",
       "       1               1.0     4"
      ]
     },
     "execution_count": 71,
     "metadata": {},
     "output_type": "execute_result"
    }
   ],
   "source": [
    "dic = {\"Abandoned\":['mean','count']}\n",
    "agg_df = df.groupby([\"Branch\",\"Abandoned\"]).agg(dic)\n",
    "agg_df"
   ]
  },
  {
   "cell_type": "markdown",
   "id": "598bb1bf",
   "metadata": {},
   "source": [
    "#### Manipulation Question 3:  Service level is another KPI when it comes to measuring call center efficiency. Service level is the percentage of calls answered within a specific number of seconds. In the case of your employer, their ideal time frame is 2 seconds. What is the percentage of calls answered within 2 seconds for each branch and the entire company?\n",
    "##### Record your answer by double clicking here:\n",
    "Percentage of calls answered within 2 seconds, include # of calls: All the calls were answered in 1 second\n",
    "- North Branch = 40.24%\n",
    "- South Branch = 38.1%\n",
    "- Company Wide = 38.94%"
   ]
  },
  {
   "cell_type": "code",
   "execution_count": 72,
   "id": "f3191ddd",
   "metadata": {},
   "outputs": [
    {
     "data": {
      "text/plain": [
       "208"
      ]
     },
     "execution_count": 72,
     "metadata": {},
     "output_type": "execute_result"
    }
   ],
   "source": [
    "Waiting_time = 'Incoming Wait Time'\n",
    "waittime = df['Incoming Wait Time'].value_counts().sum()\n",
    "waittime"
   ]
  },
  {
   "cell_type": "code",
   "execution_count": 84,
   "id": "20d093c7",
   "metadata": {},
   "outputs": [
    {
     "data": {
      "text/plain": [
       "38.94"
      ]
     },
     "execution_count": 84,
     "metadata": {},
     "output_type": "execute_result"
    }
   ],
   "source": [
    "(((df[\"Incoming Wait Time\"]<=2).sum()/waittime)*100).round(2)"
   ]
  },
  {
   "cell_type": "code",
   "execution_count": 74,
   "id": "f45bbfbd",
   "metadata": {},
   "outputs": [
    {
     "data": {
      "text/plain": [
       "82"
      ]
     },
     "execution_count": 74,
     "metadata": {},
     "output_type": "execute_result"
    }
   ],
   "source": [
    "Waitting_time = 'Incoming Wait Time'\n",
    "waittimend = nd['Incoming Wait Time'].value_counts().sum()\n",
    "waittimend"
   ]
  },
  {
   "cell_type": "code",
   "execution_count": 83,
   "id": "27774316",
   "metadata": {},
   "outputs": [
    {
     "data": {
      "text/plain": [
       "40.24"
      ]
     },
     "execution_count": 83,
     "metadata": {},
     "output_type": "execute_result"
    }
   ],
   "source": [
    "(((north_df[\"Incoming Wait Time\"]<=2).sum()/waittimend)*100).round(2)"
   ]
  },
  {
   "cell_type": "code",
   "execution_count": 79,
   "id": "c9b7eba4",
   "metadata": {},
   "outputs": [
    {
     "data": {
      "text/plain": [
       "126"
      ]
     },
     "execution_count": 79,
     "metadata": {},
     "output_type": "execute_result"
    }
   ],
   "source": [
    "Waitting_time = 'Incoming Wait Time'\n",
    "waittimesd = sd['Incoming Wait Time'].value_counts().sum()\n",
    "waittimesd"
   ]
  },
  {
   "cell_type": "code",
   "execution_count": 82,
   "id": "a1e32e6c",
   "metadata": {},
   "outputs": [
    {
     "data": {
      "text/plain": [
       "38.1"
      ]
     },
     "execution_count": 82,
     "metadata": {},
     "output_type": "execute_result"
    }
   ],
   "source": [
    "(((south_df[\"Incoming Wait Time\"]<=2).sum()/waittimesd)*100).round(2)"
   ]
  },
  {
   "cell_type": "markdown",
   "id": "7e19e705",
   "metadata": {},
   "source": [
    "#### Manipulation Question 4: For each branch and the entire company, what is the average speed of answer?\n",
    "##### Record your answer by double clicking here:\n",
    "Average speed of answer (rounded to nearest hundredth): 1 Second\n",
    "- North Branch in seconds = 3.05%\n",
    "- South Branch in seconds = 3.0%\n",
    "- Company Wide in seconds = 3.02%\n"
   ]
  },
  {
   "cell_type": "code",
   "execution_count": 50,
   "id": "72a653ed",
   "metadata": {},
   "outputs": [
    {
     "data": {
      "text/plain": [
       "Branch\n",
       "North    3.04878\n",
       "Name: Incoming Wait Time, dtype: float64"
      ]
     },
     "execution_count": 50,
     "metadata": {},
     "output_type": "execute_result"
    }
   ],
   "source": [
    "# Code Used \n",
    "ndf = north_df.groupby(['Branch'])['Incoming Wait Time'].mean()\n",
    "ndf"
   ]
  },
  {
   "cell_type": "code",
   "execution_count": 53,
   "id": "a6506f42",
   "metadata": {},
   "outputs": [
    {
     "data": {
      "text/plain": [
       "Branch\n",
       "South    3.0\n",
       "Name: Incoming Wait Time, dtype: float64"
      ]
     },
     "execution_count": 53,
     "metadata": {},
     "output_type": "execute_result"
    }
   ],
   "source": [
    "sdf = south_df.groupby(['Branch'])['Incoming Wait Time'].mean()\n",
    "sdf"
   ]
  },
  {
   "cell_type": "code",
   "execution_count": 46,
   "id": "062572e2",
   "metadata": {},
   "outputs": [
    {
     "data": {
      "text/plain": [
       "3.019230769230769"
      ]
     },
     "execution_count": 46,
     "metadata": {},
     "output_type": "execute_result"
    }
   ],
   "source": [
    "df[\"Incoming Wait Time\"].agg(\"mean\")"
   ]
  },
  {
   "cell_type": "markdown",
   "id": "ba3ca2cd",
   "metadata": {},
   "source": [
    "<span style=\"background-color:orangered; color:orangered;\">- - - - - - - - - - - - - - - - - - - - - - - - - - - - - - - - - - - - - - - - - - - - - - - - - - - - - - - - - - - - - - - - - - - - - - - - - - - - - - - - - - - - - - - - -</span>"
   ]
  },
  {
   "cell_type": "markdown",
   "id": "d5f50a40",
   "metadata": {},
   "source": [
    "## Visualization\n",
    "\n",
    "Create a visualization for each of the following questions. Some of the code to handle aggregating and storing data may be written for you. For each visualization, you choose the chart style that you feel suits the situation best. Make note of the chart style you chose and why. \n",
    "\n",
    "*NOTE Some questions you may decide to use more than one chart and or chart style."
   ]
  },
  {
   "cell_type": "markdown",
   "id": "66ccf83c",
   "metadata": {},
   "source": [
    "#### Visualization 1:  What is the average abandonment rate per queue?\n",
    "##### Record your answer by double clicking here:\n",
    "\n",
    "> Chart style you chose and why: I have used Bar chart as it perform effective comparison of values"
   ]
  },
  {
   "cell_type": "code",
   "execution_count": 84,
   "id": "c971d779",
   "metadata": {},
   "outputs": [
    {
     "name": "stderr",
     "output_type": "stream",
     "text": [
      "C:\\Users\\keert\\AppData\\Local\\Temp\\ipykernel_21764\\3428952605.py:13: FutureWarning: The default value of numeric_only in DataFrameGroupBy.sum is deprecated. In a future version, numeric_only will default to False. Either specify numeric_only or select only columns which should be valid for the function.\n",
      "  queue_dict = df.groupby(\"Queue\").agg(\"sum\")\n"
     ]
    },
    {
     "data": {
      "image/png": "[encoded data removed]",
      "text/plain": [
       "<Figure size 640x480 with 1 Axes>"
      ]
     },
     "metadata": {},
     "output_type": "display_data"
    }
   ],
   "source": [
    "# Create visualization 1 here\n",
    "# Import any additional libraries needed with alias\n",
    "import matplotlib\n",
    "import matplotlib.pyplot as plt\n",
    "import matplotlib.mlab as mlab\n",
    "import numpy as np\n",
    "import pandas as pd\n",
    "import seaborn as sb\n",
    "\n",
    "\n",
    "# The dictionary abandonment_rates has the data you need.\n",
    "abandonment_rates = {}\n",
    "queues = [\"A\", \"B\", \"C\", \"D\"]\n",
    "queue_dict = df.groupby(\"Queue\").agg(\"sum\")\n",
    "for i in range(4):\n",
    "    abandonment_rates[queues[i]] = queue_dict[\"Abandoned\"][i] / queue_dict[\"Calls\"][i] \n",
    "\n",
    "#Your Code Here:\n",
    "names = list(abandonment_rates.keys())\n",
    "values = list(abandonment_rates.values())\n",
    "plt.bar(range(len(abandonment_rates)), values,tick_label=names)\n",
    "plt.title(\"Abandonment rates plot\")\n",
    "plt.show()\n",
    "\n"
   ]
  },
  {
   "cell_type": "markdown",
   "id": "4a9fc77f",
   "metadata": {},
   "source": [
    "#### Visualization 2: What is the service level percentage and average speed of answer for each rep in the North Branch?\n",
    "##### Record your answer by double clicking here:\n",
    "\n",
    "> Chart style you chose and why: I have used Bar chart as it perform effective comparison of values"
   ]
  },
  {
   "cell_type": "code",
   "execution_count": 85,
   "id": "61f65a7f",
   "metadata": {},
   "outputs": [
    {
     "data": {
      "image/png": "[encoded data removed]",
      "text/plain": [
       "<Figure size 640x480 with 1 Axes>"
      ]
     },
     "metadata": {},
     "output_type": "display_data"
    }
   ],
   "source": [
    "# Create visualization 2 here\n",
    "# north_plt contains the data you need for the average speed of answer of each rep\n",
    "\n",
    "north_plt = north_df.groupby(\"Rep ID\")[\"Incoming Wait Time\"].mean().to_frame().reset_index()\n",
    "\n",
    "# Finding each Rep's Personal Service Level Percentage.  Basically, Calls within 2 secs / total calls\n",
    "\n",
    "# Table 1: Total Incoming calls less than 2 seconds grouped by Rep\n",
    "quick_calls = north_df[north_df[\"Incoming Wait Time\"] <= 2.0]\n",
    "quick_reps = quick_calls[[\"Rep ID\", \"Calls\"]]\n",
    "quick_stats = quick_reps.groupby([\"Rep ID\"]).sum()  # Final Table\n",
    "\n",
    "\n",
    "# Table 2: Total Incoming Calls Only grouped by Rep\n",
    "total_calls_in = north_df[north_df[\"Incoming or Outgoing\"] == \"Incoming\"]\n",
    "rep_calls = total_calls_in[[\"Rep ID\", \"Calls\"]]     \n",
    "total_stats = rep_calls.groupby([\"Rep ID\"]).sum() # Final Table  \n",
    "\n",
    "#  Table 3: Service Level Percentage created via merge\n",
    "service_level = pd.merge(quick_stats, total_stats, on=\"Rep ID\")\n",
    "\n",
    "# Create Percentage Column in Table 3\n",
    "service_level[\"Service Level %\"] = service_level[\"Calls_x\"]/service_level[\"Calls_y\"] * 100\n",
    "\n",
    "#Your Code Here:\n",
    "df_pivot = pd.pivot_table(df, values='Calls', index='Rep ID', columns='Incoming Wait Time')\n",
    "ax = north_plt.plot(kind='bar',alpha=0.5)\n",
    "plt.title('Service Level by Reps')\n",
    "plt.xlabel('x axis')\n",
    "plt.ylabel('y axis')\n",
    "plt.show()"
   ]
  },
  {
   "cell_type": "markdown",
   "id": "f965e41a",
   "metadata": {},
   "source": [
    "#### Visualization 3: For each type of call purpose, how many calls are outgoing vs. incoming?\n",
    "##### Record your answer by double clicking here:\n",
    "\n",
    "> Chart style you chose and why: I have used Bar chart as it perform effective comparison of values as group"
   ]
  },
  {
   "cell_type": "code",
   "execution_count": 126,
   "id": "44096730",
   "metadata": {},
   "outputs": [
    {
     "name": "stdout",
     "output_type": "stream",
     "text": [
      "Call Purpose     Incoming or Outgoing\n",
      "Complaint        Incoming                 51\n",
      "Product Support  Outgoing                228\n",
      "                 Incoming                 82\n",
      "Sales Support    Outgoing                123\n",
      "                 Incoming                 75\n",
      "Name: Incoming or Outgoing, dtype: int64\n"
     ]
    },
    {
     "data": {
      "text/plain": [
       "Text(0, 0.5, 'Purpose Counts')"
      ]
     },
     "execution_count": 126,
     "metadata": {},
     "output_type": "execute_result"
    },
    {
     "data": {
      "image/png": "[encoded data removed]",
      "text/plain": [
       "<Figure size 1000x1000 with 1 Axes>"
      ]
     },
     "metadata": {},
     "output_type": "display_data"
    }
   ],
   "source": [
    "# Create visualization 3 here:\n",
    "# The three dictionaries, complaints, sales_support, and product_support, have the information you need\n",
    "\n",
    "purpose_group = df.groupby(\"Call Purpose\")\n",
    "call_purpose = [\"Complaint\", \"Product Support\", \"Sales Support\"]\n",
    "purpose_counts = purpose_group[\"Incoming or Outgoing\"].value_counts()\n",
    "print(purpose_counts)\n",
    "\n",
    "complaints = purpose_counts[\"Complaint\"].to_dict()\n",
    "sales_support = purpose_counts[\"Sales Support\"].to_dict()\n",
    "product_support = purpose_counts[\"Product Support\"].to_dict()\n",
    "\n",
    "#Your Code Here:\n",
    "df['Call Purpose'].value_counts().head(10)\n",
    "sb.set_context(\"poster\")\n",
    "calls_count = df.groupby('Call Purpose')['Incoming or Outgoing'].count().reset_index().sort_values('Incoming or Outgoing', ascending=False).head(10).set_index('Call Purpose', )\n",
    "plt.figure(figsize=(10,10))\n",
    "ax = sb.barplot(x=calls_count.index, y = calls_count['Incoming or Outgoing'], palette='tab10', orient = 'v')\n",
    "ax.tick_params(axis='x',rotation=30)\n",
    "ax.set_title(\"Type of Calls per purpose\", size = 30)\n",
    "ax.set_xlabel(\"Call Purpose\", size = 30)\n",
    "ax.set_ylabel('Purpose Counts', size = 30)"
   ]
  },
  {
   "cell_type": "markdown",
   "id": "03f05fe7",
   "metadata": {},
   "source": [
    "<span style=\"background-color:orangered; color:orangered;\">- - - - - - - - - - - - - - - - - - - - - - - - - - - - - - - - - - - - - - - - - - - - - - - - - - - - - - - - - - - - - - - - - - - - - - - - - - - - - - - - - - - - - - - - -</span>"
   ]
  },
  {
   "cell_type": "markdown",
   "id": "ea7ed568",
   "metadata": {},
   "source": [
    "## Summarize Your Work\n",
    "\n",
    "With what you know now about the two call centers and the entire company, answer the following questions. Note that while this is subjective, you should include relevant data to back up your opinion.\n"
   ]
  },
  {
   "cell_type": "markdown",
   "id": "d2fc3d13",
   "metadata": {},
   "source": [
    "#### Summary Question 1:  Using KPIs such as average abandonment rate, service level and average speed of answer, in your opinion, which one of the two branches is operating more efficiently? Why?\n",
    "\n",
    "##### Record your answer by double clicking here:\n",
    "> Your Answer: The North branch is operating more efficiently as the reps were taking more calls with less incoming wait time\n",
    "\n"
   ]
  },
  {
   "cell_type": "markdown",
   "id": "489f28d6",
   "metadata": {},
   "source": [
    "#### Summary Question 2: Based on the number of reps in each branch and how quickly the reps are working, in your opinion, which branch would benefit from the extra help?\n",
    "\n",
    "##### Record your answer by double clicking here:\n",
    "> Your Answer: The South branch would benefit from the extra help\n"
   ]
  },
  {
   "cell_type": "markdown",
   "id": "0b10a8c3",
   "metadata": {},
   "source": [
    "#### Summary Question 3: Now that you have explored the datasets, is there any data or information that you wish you had in this analysis?\n",
    "\n",
    "##### Record your answer by double clicking here:\n",
    "> Your Answer: Nope there is not any information which I wish I had in this analysis\n"
   ]
  },
  {
   "cell_type": "markdown",
   "id": "66946044",
   "metadata": {},
   "source": [
    "<span style=\"background-color:orangered; color:orangered;\">- - - - - - - - - - - - - - - - - - - - - - - - - - - - - - - - - - - - - - - - - - - - - - - - - - - - - - - - - - - - - - - - - - - - - - - - - - - - - - - - - - - - - - - - -</span>"
   ]
  },
  {
   "cell_type": "markdown",
   "id": "ce16f43d",
   "metadata": {},
   "source": [
    "## Bonus Mission\n",
    "Create a visualization that answers this question: For each call purpose, how many calls (incoming and outgoing) take place in each time block?\n",
    "##### Record your answer by double clicking here:\n",
    "\n",
    "> Chart style you chose and why: "
   ]
  },
  {
   "cell_type": "code",
   "execution_count": 123,
   "id": "71b04f32",
   "metadata": {},
   "outputs": [
    {
     "name": "stdout",
     "output_type": "stream",
     "text": [
      "Time Block  Incoming or Outgoing\n",
      "10:00 AM    Outgoing                66\n",
      "            Incoming                33\n",
      "11:00 AM    Outgoing                37\n",
      "            Incoming                19\n",
      "12:00 PM    Outgoing                77\n",
      "            Incoming                43\n",
      "1:00 PM     Outgoing                25\n",
      "            Incoming                15\n",
      "2:00 PM     Outgoing                40\n",
      "            Incoming                25\n",
      "3:00 PM     Outgoing                41\n",
      "            Incoming                32\n",
      "4:00 PM     Outgoing                31\n",
      "            Incoming                22\n",
      "5:00 PM     Outgoing                29\n",
      "            Incoming                14\n",
      "9:00 AM     Incoming                 5\n",
      "            Outgoing                 5\n",
      "Name: Incoming or Outgoing, dtype: int64\n"
     ]
    }
   ],
   "source": [
    "# Create your Bonus Mission visualization here!\n",
    "call_times = df[[\"Time Block\", \"Call Purpose\", \"Incoming or Outgoing\", \"Calls\"]]\n",
    "\n",
    "# Use groupby to plot based on time blocks:\n",
    "time_group = df.groupby(\"Time Block\")\n",
    "call_purpose = [\"Complaint\", \"Product Support\", \"Sales Support\"]\n",
    "time_counts = time_group[\"Incoming or Outgoing\"].value_counts()\n",
    "print(time_counts)\n",
    "\n",
    "# Use groupby and get_group to select which call purpose to plot:\n"
   ]
  },
  {
   "cell_type": "code",
   "execution_count": null,
   "id": "4ab4b3eb",
   "metadata": {
    "collapsed": true
   },
   "outputs": [],
   "source": []
  }
 ],
 "metadata": {
  "kernelspec": {
   "display_name": "Python 3 (ipykernel)",
   "language": "python",
   "name": "python3"
  },
  "language_info": {
   "codemirror_mode": {
    "name": "ipython",
    "version": 3
   },
   "file_extension": ".py",
   "mimetype": "text/x-python",
   "name": "python",
   "nbconvert_exporter": "python",
   "pygments_lexer": "ipython3",
   "version": "3.10.9"
  }
 },
 "nbformat": 4,
 "nbformat_minor": 5
}
